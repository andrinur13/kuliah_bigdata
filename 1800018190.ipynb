{
  "nbformat": 4,
  "nbformat_minor": 0,
  "metadata": {
    "colab": {
      "name": "1800018190.ipynb",
      "provenance": [],
      "collapsed_sections": [
        "2onpxd-9LRBH",
        "jv5Bl_aFM-rz",
        "1QA2EznUNEdd",
        "pvjobRQRWrvO",
        "-VjqwL4bWx1R",
        "oA4tSgqDhQuA"
      ],
      "authorship_tag": "ABX9TyNlzZrgU+Bxlj/C8yv+EZdv",
      "include_colab_link": true
    },
    "kernelspec": {
      "name": "python3",
      "display_name": "Python 3"
    }
  },
  "cells": [
    {
      "cell_type": "markdown",
      "metadata": {
        "id": "view-in-github",
        "colab_type": "text"
      },
      "source": [
        "<a href=\"https://colab.research.google.com/github/andrinur13/kuliah_bigdata/blob/master/1800018190.ipynb\" target=\"_parent\"><img src=\"https://colab.research.google.com/assets/colab-badge.svg\" alt=\"Open In Colab\"/></a>"
      ]
    },
    {
      "cell_type": "markdown",
      "metadata": {
        "id": "ezXTuJOiFusK",
        "colab_type": "text"
      },
      "source": [
        "### **Perbandingan Rata-Rata Biaya Asuransi Kesehatan (Insurance) Berdasarkan Jenis Kelamin dan Perilaku Merokok**\n",
        "\n",
        "Nama  : Andri Nur Hidayatulloh\n",
        "\n",
        "NIM   : 1800018190 "
      ]
    },
    {
      "cell_type": "markdown",
      "metadata": {
        "id": "2onpxd-9LRBH",
        "colab_type": "text"
      },
      "source": [
        "## **Persiapan Environtment**"
      ]
    },
    {
      "cell_type": "code",
      "metadata": {
        "id": "CICZgxAX_HRQ",
        "colab_type": "code",
        "colab": {
          "base_uri": "https://localhost:8080/",
          "height": 275
        },
        "outputId": "eabd3697-765f-4c5e-97b4-bd683ae0117f"
      },
      "source": [
        "! apt-get install openjdk-8-jdk-headless -qq > /dev/null\n",
        "! wget -q http://www-eu.apache.org/dist/spark/spark-2.4.5/spark-2.4.5-bin-hadoop2.7.tgz\n",
        "! tar xf spark-2.4.5-bin-hadoop2.7.tgz\n",
        "! pip install -q findspark\n",
        "! pip install pyspark_dist_explore"
      ],
      "execution_count": null,
      "outputs": [
        {
          "output_type": "stream",
          "text": [
            "Collecting pyspark_dist_explore\n",
            "  Downloading https://files.pythonhosted.org/packages/3c/33/2b6c29265413f2b56516caf02b8befbb6a79a1a3516d57bf1b0742a1be40/pyspark_dist_explore-0.1.8-py3-none-any.whl\n",
            "Requirement already satisfied: pandas in /usr/local/lib/python3.6/dist-packages (from pyspark_dist_explore) (1.0.5)\n",
            "Requirement already satisfied: scipy in /usr/local/lib/python3.6/dist-packages (from pyspark_dist_explore) (1.4.1)\n",
            "Requirement already satisfied: matplotlib in /usr/local/lib/python3.6/dist-packages (from pyspark_dist_explore) (3.2.2)\n",
            "Requirement already satisfied: numpy in /usr/local/lib/python3.6/dist-packages (from pyspark_dist_explore) (1.18.5)\n",
            "Requirement already satisfied: python-dateutil>=2.6.1 in /usr/local/lib/python3.6/dist-packages (from pandas->pyspark_dist_explore) (2.8.1)\n",
            "Requirement already satisfied: pytz>=2017.2 in /usr/local/lib/python3.6/dist-packages (from pandas->pyspark_dist_explore) (2018.9)\n",
            "Requirement already satisfied: kiwisolver>=1.0.1 in /usr/local/lib/python3.6/dist-packages (from matplotlib->pyspark_dist_explore) (1.2.0)\n",
            "Requirement already satisfied: pyparsing!=2.0.4,!=2.1.2,!=2.1.6,>=2.0.1 in /usr/local/lib/python3.6/dist-packages (from matplotlib->pyspark_dist_explore) (2.4.7)\n",
            "Requirement already satisfied: cycler>=0.10 in /usr/local/lib/python3.6/dist-packages (from matplotlib->pyspark_dist_explore) (0.10.0)\n",
            "Requirement already satisfied: six>=1.5 in /usr/local/lib/python3.6/dist-packages (from python-dateutil>=2.6.1->pandas->pyspark_dist_explore) (1.12.0)\n",
            "Installing collected packages: pyspark-dist-explore\n",
            "Successfully installed pyspark-dist-explore-0.1.8\n"
          ],
          "name": "stdout"
        }
      ]
    },
    {
      "cell_type": "code",
      "metadata": {
        "id": "CHzmFi31_tdm",
        "colab_type": "code",
        "colab": {}
      },
      "source": [
        "import os\n",
        "os.environ[\"JAVA_HOME\"] = \"/usr/lib/jvm/java-8-openjdk-amd64\"\n",
        "os.environ[\"SPARK_HOME\"] = \"/content/spark-2.4.5-bin-hadoop2.7\""
      ],
      "execution_count": null,
      "outputs": []
    },
    {
      "cell_type": "code",
      "metadata": {
        "id": "xocpLstzAzEi",
        "colab_type": "code",
        "colab": {}
      },
      "source": [
        "import findspark\n",
        "findspark.init(\"spark-2.4.5-bin-hadoop2.7\")# SPARK_HOME\n",
        "from pyspark.sql import SparkSession\n",
        "spark = SparkSession.builder.master(\"local[*]\").getOrCreate()\n",
        "from pyspark.sql.functions import col, avg\n",
        "from matplotlib import pyplot as plt\n",
        "from pyspark_dist_explore import Histogram, hist"
      ],
      "execution_count": null,
      "outputs": []
    },
    {
      "cell_type": "code",
      "metadata": {
        "id": "oY0k5WsIA2mi",
        "colab_type": "code",
        "colab": {}
      },
      "source": [
        "sc = spark.sparkContext\n",
        "spark = SparkSession(sc)"
      ],
      "execution_count": null,
      "outputs": []
    },
    {
      "cell_type": "markdown",
      "metadata": {
        "id": "jv5Bl_aFM-rz",
        "colab_type": "text"
      },
      "source": [
        "### **Load Dataset**"
      ]
    },
    {
      "cell_type": "code",
      "metadata": {
        "id": "9XWauIBJA5Lu",
        "colab_type": "code",
        "colab": {
          "base_uri": "https://localhost:8080/",
          "height": 170
        },
        "outputId": "3ad0e848-9c2f-4cb5-ccc5-c34ae615482f"
      },
      "source": [
        "data = spark.read.csv('insurance.csv', header=True, inferSchema=True)\n",
        "data.printSchema()"
      ],
      "execution_count": null,
      "outputs": [
        {
          "output_type": "stream",
          "text": [
            "root\n",
            " |-- age: integer (nullable = true)\n",
            " |-- sex: string (nullable = true)\n",
            " |-- bmi: double (nullable = true)\n",
            " |-- children: integer (nullable = true)\n",
            " |-- smoker: string (nullable = true)\n",
            " |-- region: string (nullable = true)\n",
            " |-- charges: double (nullable = true)\n",
            "\n"
          ],
          "name": "stdout"
        }
      ]
    },
    {
      "cell_type": "markdown",
      "metadata": {
        "id": "7PE1H1wwLymk",
        "colab_type": "text"
      },
      "source": [
        "Pada dataset insurances tersebut terdapat 7 kolom data yaitu : \n",
        "\n",
        "\n",
        "\n",
        "1.   Age (Umur dari pengguna asuransi kesehatan)\n",
        "2.   Sex (Jenis kelamin dari pengguna asuransi)\n",
        "3.   BMI (Index masa tubuh)\n",
        "4.   Children (Jumlah Anak)\n",
        "5.   Smoker (perilaku pengguna asuransi apakah merokok atau tidak)\n",
        "6.   Region (alamat pengguna asuransi)\n",
        "7.   Charges (biaya asuransi)\n",
        "\n",
        "Pada kasus kali ini akan dianalisis pada kolom Sex, Smoker dan Charges\n",
        "\n"
      ]
    },
    {
      "cell_type": "markdown",
      "metadata": {
        "id": "1QA2EznUNEdd",
        "colab_type": "text"
      },
      "source": [
        "## **1. Proses EDA**"
      ]
    },
    {
      "cell_type": "markdown",
      "metadata": {
        "id": "-mqeEfYVNNmY",
        "colab_type": "text"
      },
      "source": [
        "Total Data Pengguna Asuransi"
      ]
    },
    {
      "cell_type": "code",
      "metadata": {
        "id": "vjJymFjlB--q",
        "colab_type": "code",
        "colab": {
          "base_uri": "https://localhost:8080/",
          "height": 34
        },
        "outputId": "fc8897a3-b17d-45bf-d194-c617b9f65001"
      },
      "source": [
        "print(\"Total Pengguna Asuransi : \", data.count())"
      ],
      "execution_count": null,
      "outputs": [
        {
          "output_type": "stream",
          "text": [
            "Total Pengguna Asuransi :  1338\n"
          ],
          "name": "stdout"
        }
      ]
    },
    {
      "cell_type": "markdown",
      "metadata": {
        "id": "E1YzNj-xWFjB",
        "colab_type": "text"
      },
      "source": [
        "Lihat 5 data teratas pada data tersebut"
      ]
    },
    {
      "cell_type": "code",
      "metadata": {
        "id": "YK-Br-OWWPRM",
        "colab_type": "code",
        "colab": {
          "base_uri": "https://localhost:8080/",
          "height": 204
        },
        "outputId": "0b26a37d-200f-489e-bbb7-b4bcc8256c34"
      },
      "source": [
        "data.show(5)"
      ],
      "execution_count": null,
      "outputs": [
        {
          "output_type": "stream",
          "text": [
            "+---+------+------+--------+------+---------+-----------+\n",
            "|age|   sex|   bmi|children|smoker|   region|    charges|\n",
            "+---+------+------+--------+------+---------+-----------+\n",
            "| 19|female|  27.9|       0|   yes|southwest|  16884.924|\n",
            "| 18|  male| 33.77|       1|    no|southeast|  1725.5523|\n",
            "| 28|  male|  33.0|       3|    no|southeast|   4449.462|\n",
            "| 33|  male|22.705|       0|    no|northwest|21984.47061|\n",
            "| 32|  male| 28.88|       0|    no|northwest|  3866.8552|\n",
            "+---+------+------+--------+------+---------+-----------+\n",
            "only showing top 5 rows\n",
            "\n"
          ],
          "name": "stdout"
        }
      ]
    },
    {
      "cell_type": "markdown",
      "metadata": {
        "id": "9FHgJiTUNje5",
        "colab_type": "text"
      },
      "source": [
        "**Statistik dataset pengguna asuransi kesehatan**"
      ]
    },
    {
      "cell_type": "code",
      "metadata": {
        "id": "uNirIlxDNfPu",
        "colab_type": "code",
        "colab": {
          "base_uri": "https://localhost:8080/",
          "height": 187
        },
        "outputId": "26db0a82-cc0e-4d14-f024-55f04934b55c"
      },
      "source": [
        "data.describe().show()"
      ],
      "execution_count": null,
      "outputs": [
        {
          "output_type": "stream",
          "text": [
            "+-------+------------------+------+------------------+-----------------+------+---------+------------------+\n",
            "|summary|               age|   sex|               bmi|         children|smoker|   region|           charges|\n",
            "+-------+------------------+------+------------------+-----------------+------+---------+------------------+\n",
            "|  count|              1338|  1338|              1338|             1338|  1338|     1338|              1338|\n",
            "|   mean| 39.20702541106129|  null|30.663396860986538|  1.0949177877429|  null|     null|13270.422265141257|\n",
            "| stddev|14.049960379216147|  null| 6.098186911679012|1.205492739781914|  null|     null|12110.011236693992|\n",
            "|    min|                18|female|             15.96|                0|    no|northeast|         1121.8739|\n",
            "|    max|                64|  male|             53.13|                5|   yes|southwest|       63770.42801|\n",
            "+-------+------------------+------+------------------+-----------------+------+---------+------------------+\n",
            "\n"
          ],
          "name": "stdout"
        }
      ]
    },
    {
      "cell_type": "markdown",
      "metadata": {
        "id": "b2ofugWKQrH3",
        "colab_type": "text"
      },
      "source": [
        "Statistik data : \n",
        "\n",
        "pada colom sex, smoker dan region memiliki nilai mean, standar deviasi **null**. Hal ini dikarenakan data tersebut bukan berisi angka namun berisi string, oleh sebab itu menghasilkan null karena string tidak dapat dikalkukasi dalam proses mean dan sttdev"
      ]
    },
    {
      "cell_type": "markdown",
      "metadata": {
        "id": "XzJPTVn8ShvJ",
        "colab_type": "text"
      },
      "source": [
        "**Persebaran Data pada masing-masing kolom**"
      ]
    },
    {
      "cell_type": "code",
      "metadata": {
        "id": "uJlcmgXGSrUT",
        "colab_type": "code",
        "colab": {}
      },
      "source": [
        "data_age = data.select('age')\n",
        "# fig, axes = plt.subplots()\n",
        "# fig.set_size_inches(5, 5)\n",
        "# hist(axes, data_age, bins=20, color=\"red\")\n",
        "# plt.show()"
      ],
      "execution_count": null,
      "outputs": []
    },
    {
      "cell_type": "code",
      "metadata": {
        "id": "I3lmTgwvRYgt",
        "colab_type": "code",
        "colab": {
          "base_uri": "https://localhost:8080/",
          "height": 334
        },
        "outputId": "6eb6738c-d26f-4bfe-d17f-be73d0564ef7"
      },
      "source": [
        "data_charges = data.select('charges')\n",
        "\n",
        "fig, axes = plt.subplots()\n",
        "fig.set_size_inches(8, 5)\n",
        "hist(axes, data_charges, color=\"blue\")\n",
        "plt.xlabel('Persebaran Data Biaya (charges)')\n",
        "plt.ylabel('Banyak')\n",
        "\n",
        "plt.show()"
      ],
      "execution_count": null,
      "outputs": [
        {
          "output_type": "display_data",
          "data": {
            "image/png": "[encoded data removed]",
            "text/plain": [
              "<Figure size 576x360 with 1 Axes>"
            ]
          },
          "metadata": {
            "tags": [],
            "needs_background": "light"
          }
        }
      ]
    },
    {
      "cell_type": "markdown",
      "metadata": {
        "id": "n7uz17wUTLZM",
        "colab_type": "text"
      },
      "source": [
        "Pada data persebaran **biaya asuransi (charges)** tidak terdapat outlier, dan biaya terkecil asuransi tersebut adalah 1121.8739 dan biaya terbesar asuransi tersebut adalah 63770.42801 "
      ]
    },
    {
      "cell_type": "markdown",
      "metadata": {
        "id": "j894pjeLUPgr",
        "colab_type": "text"
      },
      "source": [
        "**Cek apakah adat data yang kosong (null)**"
      ]
    },
    {
      "cell_type": "code",
      "metadata": {
        "id": "sy1w52EbQpe0",
        "colab_type": "code",
        "colab": {
          "base_uri": "https://localhost:8080/",
          "height": 136
        },
        "outputId": "da98c7c6-587e-4623-fdd5-3cecdb332cac"
      },
      "source": [
        "table = ['age', 'sex', 'bmi', 'children', 'smoker', 'region', 'charges']\n",
        "\n",
        "for kolom in table:\n",
        "  print('jumlah data yang bernilai null pada colom ', kolom, ' : ', data.where(col(kolom).isNull()).count())"
      ],
      "execution_count": null,
      "outputs": [
        {
          "output_type": "stream",
          "text": [
            "jumlah data yang bernilai null pada colom  age  :  0\n",
            "jumlah data yang bernilai null pada colom  sex  :  0\n",
            "jumlah data yang bernilai null pada colom  bmi  :  0\n",
            "jumlah data yang bernilai null pada colom  children  :  0\n",
            "jumlah data yang bernilai null pada colom  smoker  :  0\n",
            "jumlah data yang bernilai null pada colom  region  :  0\n",
            "jumlah data yang bernilai null pada colom  charges  :  0\n"
          ],
          "name": "stdout"
        }
      ]
    },
    {
      "cell_type": "code",
      "metadata": {
        "id": "NvGbuH9lYUau",
        "colab_type": "code",
        "colab": {}
      },
      "source": [
        ""
      ],
      "execution_count": null,
      "outputs": []
    },
    {
      "cell_type": "markdown",
      "metadata": {
        "id": "5hNTNNW2UalG",
        "colab_type": "text"
      },
      "source": [
        "Pada dataset tersebut tidak terdapat data yang kosong/null."
      ]
    },
    {
      "cell_type": "markdown",
      "metadata": {
        "id": "pvjobRQRWrvO",
        "colab_type": "text"
      },
      "source": [
        "## **2. PRE PROCESSING**\n",
        "\n",
        "Karena tidak ada data yang null, maka data tersebut sudah siap untuk diproses.\n",
        "\n",
        "Namun, data tersebut akan difilter / seleksi pada kolom yang dibutuhkan saja.\n",
        "\n",
        "Pada data tersebut kita butuh kolom sex, smoker dan charges"
      ]
    },
    {
      "cell_type": "code",
      "metadata": {
        "id": "FAhOp6_CVk9r",
        "colab_type": "code",
        "colab": {
          "base_uri": "https://localhost:8080/",
          "height": 289
        },
        "outputId": "5170e4ea-71fc-430d-842e-2bdaa0dd3de0"
      },
      "source": [
        "# seleksi data\n",
        "dataDF = data.select('sex', 'smoker', 'charges')\n",
        "\n",
        "# tampilkan 10 data teratas\n",
        "dataDF.show(10)"
      ],
      "execution_count": null,
      "outputs": [
        {
          "output_type": "stream",
          "text": [
            "+------+------+-----------+\n",
            "|   sex|smoker|    charges|\n",
            "+------+------+-----------+\n",
            "|female|   yes|  16884.924|\n",
            "|  male|    no|  1725.5523|\n",
            "|  male|    no|   4449.462|\n",
            "|  male|    no|21984.47061|\n",
            "|  male|    no|  3866.8552|\n",
            "|female|    no|  3756.6216|\n",
            "|female|    no|  8240.5896|\n",
            "|female|    no|  7281.5056|\n",
            "|  male|    no|  6406.4107|\n",
            "|female|    no|28923.13692|\n",
            "+------+------+-----------+\n",
            "only showing top 10 rows\n",
            "\n"
          ],
          "name": "stdout"
        }
      ]
    },
    {
      "cell_type": "markdown",
      "metadata": {
        "id": "-VjqwL4bWx1R",
        "colab_type": "text"
      },
      "source": [
        "## **3. PEMROSESAN DATA**"
      ]
    },
    {
      "cell_type": "markdown",
      "metadata": {
        "id": "qXP2IKq1XYqE",
        "colab_type": "text"
      },
      "source": [
        "Pada pemrosesan data ini akan dianalisis perbandingan rata-rata biaya asuransi kesehatan berdasarkan jenis kelamin dan perilaku merokok"
      ]
    },
    {
      "cell_type": "markdown",
      "metadata": {
        "id": "qS8PZi5HXrRr",
        "colab_type": "text"
      },
      "source": [
        "**3.1 Perbandingan rata-rata biaya asuransi kesehatan berdasarkan jenis kelamin**"
      ]
    },
    {
      "cell_type": "markdown",
      "metadata": {
        "id": "Cdebm3kfWrVH",
        "colab_type": "text"
      },
      "source": [
        "Pada pemrosesan rata-rata biaya asuransi kesehatan berdasarkan jenis kelamin menggunakan pemrosesan spark sql"
      ]
    },
    {
      "cell_type": "code",
      "metadata": {
        "id": "xOJGKVCqWvIl",
        "colab_type": "code",
        "colab": {
          "base_uri": "https://localhost:8080/",
          "height": 697
        },
        "outputId": "e9adbced-bc46-4236-a4c3-8bac74beac42"
      },
      "source": [
        "# membuat tabel\n",
        "dataDF.createOrReplaceTempView(\"dataAsuransi\")\n",
        "\n",
        "# seleksi data perempuan\n",
        "data_perempuan = spark.sql(\"SELECT * FROM dataAsuransi WHERE sex = 'female'\")\n",
        "\n",
        "# seleksi data laki-laki\n",
        "data_lakiLaki = spark.sql(\"SELECT * FROM dataAsuransi WHERE sex = 'male'\")\n",
        "\n",
        "# hitung rata-rata biaya asuransi kesehatan berdasarkan jenis kelamin\n",
        "rata_rata_biaya_jk = spark.sql(\"SELECT sex, AVG(charges) FROM dataAsuransi GROUP BY sex\")\n",
        "\n",
        "# output\n",
        "print(\"Jumlah pengguna asuransi perempuan   : \", data_perempuan.count())\n",
        "print(\"Jumlah pengguna asuransi laki-laki   : \", data_lakiLaki.count())\n",
        "\n",
        "print('\\n')\n",
        "\n",
        "# 5 data teratas pengguna asuransi perempuan\n",
        "print('5 data teratas pengguna asuransi berjenis kelamin perempuan')\n",
        "data_perempuan.show(5)\n",
        "\n",
        "print('\\n')\n",
        "\n",
        "print('5 data teratas pengguna asuransi berjenis kelamin laki-laki')\n",
        "data_lakiLaki.show(5)\n",
        "\n",
        "print('\\n')\n",
        "\n",
        "print('Perbandingan biaya asuransi kesehatan berdasarkan jenis kelamin')\n",
        "rata_rata_biaya_jk.show()\n",
        "\n",
        "# ambil data single value dari spark sql\n",
        "rata_biaya_pr = rata_rata_biaya_jk.collect()[0][1]\n",
        "rata_biaya_lk = rata_rata_biaya_jk.collect()[1][1]"
      ],
      "execution_count": null,
      "outputs": [
        {
          "output_type": "stream",
          "text": [
            "Jumlah pengguna asuransi perempuan   :  662\n",
            "Jumlah pengguna asuransi laki-laki   :  676\n",
            "\n",
            "\n",
            "5 data teratas pengguna asuransi berjenis kelamin perempuan\n",
            "+------+------+-----------+\n",
            "|   sex|smoker|    charges|\n",
            "+------+------+-----------+\n",
            "|female|   yes|  16884.924|\n",
            "|female|    no|  3756.6216|\n",
            "|female|    no|  8240.5896|\n",
            "|female|    no|  7281.5056|\n",
            "|female|    no|28923.13692|\n",
            "+------+------+-----------+\n",
            "only showing top 5 rows\n",
            "\n",
            "\n",
            "\n",
            "5 data teratas pengguna asuransi berjenis kelamin laki-laki\n",
            "+----+------+-----------+\n",
            "| sex|smoker|    charges|\n",
            "+----+------+-----------+\n",
            "|male|    no|  1725.5523|\n",
            "|male|    no|   4449.462|\n",
            "|male|    no|21984.47061|\n",
            "|male|    no|  3866.8552|\n",
            "|male|    no|  6406.4107|\n",
            "+----+------+-----------+\n",
            "only showing top 5 rows\n",
            "\n",
            "\n",
            "\n",
            "Perbandingan biaya asuransi kesehatan berdasarkan jenis kelamin\n",
            "+------+------------------+\n",
            "|   sex|      avg(charges)|\n",
            "+------+------------------+\n",
            "|female| 12569.57884383534|\n",
            "|  male|13956.751177721886|\n",
            "+------+------------------+\n",
            "\n"
          ],
          "name": "stdout"
        }
      ]
    },
    {
      "cell_type": "markdown",
      "metadata": {
        "id": "dwNiLW_ybveY",
        "colab_type": "text"
      },
      "source": [
        "Pada data tersebut telah dilakukan pemrosesan data berupa seleksi pengguna asuransi kesehatan berdasarkan jenis kelamin, yaitu laki-laki dan perempuan. Hasil tersebut didapat banyak pengguna asuransi kesehatan berjenis kelamin perempuan sebanyak **662** dan pengguna asuransi kesehatan berjenis kelamin laki-laki sebanyak **676**.\n",
        "\n",
        "Lalu dilakukan pemrosesan data berupa perhitungan rata-rata biaya asuransi kesehatan berdasarkan jenis kelamin. Didapat hasil rata-rata biaya asuransi kesehatan perempuan adalah : **12569.57884383534**, sedangkan untuk laki-laki adalah : **13956.751177721886**"
      ]
    },
    {
      "cell_type": "markdown",
      "metadata": {
        "id": "6eYr4Po9dSAC",
        "colab_type": "text"
      },
      "source": [
        "**3.2 Perbandingan rata-rata biaya asuransi kesehatan berdasarkan perilaku merokok**"
      ]
    },
    {
      "cell_type": "markdown",
      "metadata": {
        "id": "GVyAQM6DYtt8",
        "colab_type": "text"
      },
      "source": [
        "Pada pemrosesan rata-rata biaya asuransi kesehatan berdasarkan perilaku merokok menggunakan pemrosesan spark dataframe"
      ]
    },
    {
      "cell_type": "code",
      "metadata": {
        "id": "XbBXmvGQYXas",
        "colab_type": "code",
        "colab": {
          "base_uri": "https://localhost:8080/",
          "height": 629
        },
        "outputId": "e3ac4dde-37b9-40d4-acb2-e0aef54c1cbc"
      },
      "source": [
        "# pada pemrosesan data ini menggunakan transformasi dan action pada spark dataframe\n",
        "\n",
        "# filter data pengguna asuransi yang merokok\n",
        "data_perokok = dataDF.filter(dataDF.smoker == 'yes')\n",
        "\n",
        "# filter data pengguna asuransi yang tidak merokok\n",
        "data_tidak_perokok = dataDF.filter(dataDF.smoker == 'no')\n",
        "\n",
        "# hitung rata-rata biaya asuransi kesehatan berdasarkan perilaku merokok\n",
        "rata_rata_biaya_pmrk = dataDF.groupBy('smoker').avg('charges')\n",
        "\n",
        "# output\n",
        "print('Jumlah pengguna asuransi kesehatan yang merokok       : ', data_perokok.count())\n",
        "print('Jumlah pengguna asuransi kesehatan yang tidak merokok : ', data_tidak_perokok.count())\n",
        "\n",
        "print('\\n')\n",
        "\n",
        "print('5 data teratas pengguna asuransi yang merokok')\n",
        "data_perokok.show(5)\n",
        "\n",
        "print('5 data teratas pengguna asuransi kesehatan yang tidak merokok')\n",
        "data_tidak_perokok.show(5)\n",
        "\n",
        "print('Rata rata perbandingan biaya asuransi kesehatan berdasarkan perilaku merokok')\n",
        "rata_rata_biaya_pmrk.show()"
      ],
      "execution_count": null,
      "outputs": [
        {
          "output_type": "stream",
          "text": [
            "Jumlah pengguna asuransi kesehatan yang merokok       :  274\n",
            "Jumlah pengguna asuransi kesehatan yang tidak merokok :  1064\n",
            "\n",
            "\n",
            "5 data teratas pengguna asuransi yang merokok\n",
            "+------+------+----------+\n",
            "|   sex|smoker|   charges|\n",
            "+------+------+----------+\n",
            "|female|   yes| 16884.924|\n",
            "|female|   yes|27808.7251|\n",
            "|  male|   yes|39611.7577|\n",
            "|  male|   yes| 36837.467|\n",
            "|female|   yes|37701.8768|\n",
            "+------+------+----------+\n",
            "only showing top 5 rows\n",
            "\n",
            "5 data teratas pengguna asuransi kesehatan yang tidak merokok\n",
            "+------+------+-----------+\n",
            "|   sex|smoker|    charges|\n",
            "+------+------+-----------+\n",
            "|  male|    no|  1725.5523|\n",
            "|  male|    no|   4449.462|\n",
            "|  male|    no|21984.47061|\n",
            "|  male|    no|  3866.8552|\n",
            "|female|    no|  3756.6216|\n",
            "+------+------+-----------+\n",
            "only showing top 5 rows\n",
            "\n",
            "Rata rata perbandingan biaya asuransi kesehatan berdasarkan perilaku merokok\n",
            "+------+-----------------+\n",
            "|smoker|     avg(charges)|\n",
            "+------+-----------------+\n",
            "|    no|8434.268297856199|\n",
            "|   yes|32050.23183153285|\n",
            "+------+-----------------+\n",
            "\n"
          ],
          "name": "stdout"
        }
      ]
    },
    {
      "cell_type": "markdown",
      "metadata": {
        "id": "KOdBIit1gqiN",
        "colab_type": "text"
      },
      "source": [
        "Pada data tersebut telah dilakukan pemrosesan data berupa seleksi pengguna asuransi kesehatan berdasarkan perilaku merokok. Hasil tersebut didapat banyak pengguna asuransi kesehatan yang merokok sebanyak **274** dan pengguna asuransi kesehatan yang tidak merokok sebanyak **1064**.\n",
        "\n",
        "Lalu dilakukan pemrosesan data berupa perhitungan rata-rata biaya asuransi kesehatan berdasarkan perilaku merokok. Didapat hasil rata-rata biaya asuransi kesehatan untuk orang yang merokok adalah : **32050.23183153285**, sedangkan untuk orang yang tidak merokok adalah : 32050.23183153285"
      ]
    },
    {
      "cell_type": "markdown",
      "metadata": {
        "id": "T2YzBEOB6J0O",
        "colab_type": "text"
      },
      "source": [
        "**3.3 Perbandingan rata-rata biaya asuransi kesehatan berdasarkan jenis kelamin dan perilaku merokok**"
      ]
    },
    {
      "cell_type": "code",
      "metadata": {
        "id": "o0LuSB-VeILH",
        "colab_type": "code",
        "colab": {
          "base_uri": "https://localhost:8080/",
          "height": 272
        },
        "outputId": "da91a9e8-b708-474e-df98-09f746a07235"
      },
      "source": [
        "# pada pemrosesan data ini menggunakan transformasi dan action pada spark dataframe\n",
        "\n",
        "# filter pengguna asuransi perempuan yang merokok\n",
        "data_perempuan_perokok = data_perempuan.filter(data_asuransi_perempuan['smoker'] == 'yes')\n",
        "\n",
        "# filter pengguna asuransi perempuan yang tidak merokok\n",
        "data_perempuan_tidak_perokok = data_perempuan.filter(data_perempuan['smoker'] == 'no')\n",
        "\n",
        "# filter pengguna asuransi laki-laki yang merokok\n",
        "data_lakiLaki_perokok = data_lakiLaki.filter(data_lakiLaki['smoker'] == 'yes')\n",
        "\n",
        "# filter pengguna asuransi laki-laki yang tidak merokok\n",
        "data_lakiLaki_tidak_perokok = data_lakiLaki.filter(data_lakiLaki['smoker'] == 'no')\n",
        "\n",
        "# hitung rata-rata biaya asuransi kesehatan\n",
        "rata_biaya_berdasarkan_jk_dan_perokok = dataDF.groupby('sex', 'smoker').avg('charges')\n",
        "\n",
        "# ambil single value dari dataframe\n",
        "pr_mrkk = rata_biaya_berdasarkan_jk_dan_perokok.collect()[2][2]\n",
        "pr_tdk_mrkk = rata_biaya_berdasarkan_jk_dan_perokok.collect()[3][2]\n",
        "lk_mrkk = rata_biaya_berdasarkan_jk_dan_perokok.collect()[1][2]\n",
        "lk_tdk_mrkk = rata_biaya_berdasarkan_jk_dan_perokok.collect()[0][2]\n",
        "\n",
        "# output\n",
        "\n",
        "print('Perempuan merokok sebanyak          : ', perempuan_merokok.count())\n",
        "print('Perempuan tidak merokok sebanyak    : ', perempuan_tidak_merokok.count())\n",
        "print('Laki-laki merokok sebanyak          : ', laki_merokok.count())\n",
        "print('Laki-laki tidak merokok sebanyak    : ', laki_tidak_merokok.count())\n",
        "\n",
        "print('\\n Rata-rata biaya asuransi kesehatan')\n",
        "\n",
        "rata_biaya_berdasarkan_jk_dan_perokok.show()"
      ],
      "execution_count": null,
      "outputs": [
        {
          "output_type": "stream",
          "text": [
            "Perempuan merokok sebanyak          :  115\n",
            "Perempuan tidak merokok sebanyak    :  547\n",
            "Laki-laki merokok sebanyak          :  159\n",
            "Laki-laki tidak merokok sebanyak    :  547\n",
            "\n",
            " Rata-rata biaya asuransi kesehatan\n",
            "+------+------+------------------+\n",
            "|   sex|smoker|      avg(charges)|\n",
            "+------+------+------------------+\n",
            "|  male|    no| 8087.204731276592|\n",
            "|  male|   yes| 33042.00597528302|\n",
            "|female|   yes|30678.996276260867|\n",
            "|female|    no| 8762.297299541116|\n",
            "+------+------+------------------+\n",
            "\n"
          ],
          "name": "stdout"
        }
      ]
    },
    {
      "cell_type": "markdown",
      "metadata": {
        "id": "oA4tSgqDhQuA",
        "colab_type": "text"
      },
      "source": [
        "## **4. VISUALISASI DATA**\n",
        "\n",
        "visualisasi data kali ini menggunakan library matplotlib, menggunakan grafis bar.\n",
        "\n",
        "Data yang akan divisulisasi yaitu rata-rata biaya asuransi kesehatan berdasarkan jenis kelamin, berdasarkan perilaku merokok dan keduanya."
      ]
    },
    {
      "cell_type": "markdown",
      "metadata": {
        "id": "vviViyMjSTBT",
        "colab_type": "text"
      },
      "source": [
        "**4.1 Rata rata biaya asuransi berdasarkan jenis kelamin**"
      ]
    },
    {
      "cell_type": "markdown",
      "metadata": {
        "id": "pe4use1IS_R3",
        "colab_type": "text"
      },
      "source": [
        "Jumlah pengguna asuransi berdasarkan jenis kelamin"
      ]
    },
    {
      "cell_type": "code",
      "metadata": {
        "id": "9pfo7R8EhXWo",
        "colab_type": "code",
        "colab": {
          "base_uri": "https://localhost:8080/",
          "height": 355
        },
        "outputId": "8c639335-44fd-4a51-bd2c-07a6fcd75cf8"
      },
      "source": [
        "# plotting data\n",
        "fig, axes = plt.subplots()\n",
        "\n",
        "# jumlah pengguna asuransi laki-laki dan perempuan\n",
        "fig.set_size_inches(7, 5)\n",
        "\n",
        "plt.title('Perbandingan jumlah pengguna asuransi')\n",
        "plt.pie([data_perempuan.count(), data_lakiLaki.count()], labels=['Perempuan', 'Laki-laki'], autopct='%1.1f%%', shadow=True, startangle=40, colors=['orange', 'green'])\n",
        "print('\\n')"
      ],
      "execution_count": 86,
      "outputs": [
        {
          "output_type": "stream",
          "text": [
            "\n",
            "\n"
          ],
          "name": "stdout"
        },
        {
          "output_type": "display_data",
          "data": {
            "image/png": "[encoded data removed]",
            "text/plain": [
              "<Figure size 504x360 with 1 Axes>"
            ]
          },
          "metadata": {
            "tags": []
          }
        }
      ]
    },
    {
      "cell_type": "markdown",
      "metadata": {
        "id": "hzvaAd3fTZmg",
        "colab_type": "text"
      },
      "source": [
        "Perbandingan rata-rata biaya asuransi kesehatan berdasarkan jenis kelamin"
      ]
    },
    {
      "cell_type": "code",
      "metadata": {
        "id": "vJMChepPRVhV",
        "colab_type": "code",
        "colab": {
          "base_uri": "https://localhost:8080/",
          "height": 372
        },
        "outputId": "2506b086-b980-4465-a810-c9ed0d66f1ec"
      },
      "source": [
        "# perbandingan biaya asuransi berdasarkan jenis kelamin\n",
        "fig, axes = plt.subplots()\n",
        "\n",
        "fig.set_size_inches(7, 5)\n",
        "plt.title('Perbandingan biaya asuransi berdasarkan jenis kelamin')\n",
        "plt.bar('Perempuan', rata_biaya_pr)\n",
        "plt.bar('Laki-laki', rata_biaya_lk)\n",
        "print('\\n')"
      ],
      "execution_count": 87,
      "outputs": [
        {
          "output_type": "stream",
          "text": [
            "\n",
            "\n"
          ],
          "name": "stdout"
        },
        {
          "output_type": "display_data",
          "data": {
            "image/png": "[encoded data removed]",
            "text/plain": [
              "<Figure size 504x360 with 1 Axes>"
            ]
          },
          "metadata": {
            "tags": [],
            "needs_background": "light"
          }
        }
      ]
    },
    {
      "cell_type": "markdown",
      "metadata": {
        "id": "pQME8lNHXo41",
        "colab_type": "text"
      },
      "source": [
        "**4.2 Rata rata biaya asuransi berdasarkan perilaku merokok**"
      ]
    },
    {
      "cell_type": "code",
      "metadata": {
        "id": "_iHMCoR-YA4e",
        "colab_type": "code",
        "colab": {
          "base_uri": "https://localhost:8080/",
          "height": 355
        },
        "outputId": "36147660-705c-4e8b-f638-801da22c9704"
      },
      "source": [
        "# plotting data\n",
        "fig, axes = plt.subplots()\n",
        "\n",
        "# jumlah pengguna asuransi laki-laki dan perempuan\n",
        "fig.set_size_inches(7, 5)\n",
        "\n",
        "plt.title('Jumlah pengguna asuransi yang merokok dan tidak merokok')\n",
        "plt.pie([data_perokok.count(), data_tidak_perokok.count()], labels=['Perokok', 'Tidak Perokok'], autopct='%1.1f%%', shadow=True, startangle=40)\n",
        "print('\\n')"
      ],
      "execution_count": 89,
      "outputs": [
        {
          "output_type": "stream",
          "text": [
            "\n",
            "\n"
          ],
          "name": "stdout"
        },
        {
          "output_type": "display_data",
          "data": {
            "image/png": "[encoded data removed]",
            "text/plain": [
              "<Figure size 504x360 with 1 Axes>"
            ]
          },
          "metadata": {
            "tags": []
          }
        }
      ]
    },
    {
      "cell_type": "code",
      "metadata": {
        "colab_type": "code",
        "id": "iyF_nf1TjqdN",
        "colab": {
          "base_uri": "https://localhost:8080/",
          "height": 386
        },
        "outputId": "39d70858-9e12-485d-bb3e-dd051c5c68fd"
      },
      "source": [
        "# plotting data \n",
        "\n",
        "# rata-rata biaya asuransi kesehatan berdasarkan perilaku merokok\n",
        "# rata_rata_biaya_pr.collect()\n",
        "fig, axes = plt.subplots()\n",
        "\n",
        "plt.title('Perbandingan rata-rata biaya asuransi berdasarkan perilaku merokok')\n",
        "plt.bar('Perokok', rata_biaya_perokok, color='m')\n",
        "plt.bar('Bukan perokok', rata_biaya_bukan_perokok, color='y')\n",
        "plt.xlabel('Perilaku merokok')\n",
        "plt.ylabel('Biaya Asuransi')\n",
        "fig.set_size_inches(7, 5)\n",
        "\n",
        "print('\\n')"
      ],
      "execution_count": 94,
      "outputs": [
        {
          "output_type": "stream",
          "text": [
            "\n",
            "\n"
          ],
          "name": "stdout"
        },
        {
          "output_type": "display_data",
          "data": {
            "image/png": "[encoded data removed]",
            "text/plain": [
              "<Figure size 504x360 with 1 Axes>"
            ]
          },
          "metadata": {
            "tags": [],
            "needs_background": "light"
          }
        }
      ]
    },
    {
      "cell_type": "markdown",
      "metadata": {
        "id": "gznzDvxxYit9",
        "colab_type": "text"
      },
      "source": [
        "**4.3 Rata rata biaya asuransi berdasarkan jenis kelamin dan perilaku merokok**"
      ]
    },
    {
      "cell_type": "code",
      "metadata": {
        "id": "ysGjvOGvY7WH",
        "colab_type": "code",
        "colab": {}
      },
      "source": [
        "# bar chart"
      ],
      "execution_count": 92,
      "outputs": []
    },
    {
      "cell_type": "code",
      "metadata": {
        "id": "EdKIBCQFlJNs",
        "colab_type": "code",
        "colab": {
          "base_uri": "https://localhost:8080/",
          "height": 386
        },
        "outputId": "b61e4eb6-78c1-4a81-8ca1-4af114d01013"
      },
      "source": [
        "# plotting data \n",
        "\n",
        "# rata-rata biaya asuransi kesehatan berdasarkan jenis kelamin perilaku merokok\n",
        "fig, axes = plt.subplots()\n",
        "\n",
        "plt.title('Perbandingan rata-rata biaya asuransi berdasarkan jenis kelamin dan perilaku merokok')\n",
        "plt.bar('Perempuan Merokok', pr_mrkk)\n",
        "plt.bar('Perempuan Tidak Merokok', pr_tdk_mrkk)\n",
        "plt.bar('Laki-laki Merokok', lk_mrkk)\n",
        "plt.bar('Laki-laki Tidak Merokok', lk_tdk_mrkk)\n",
        "plt.xlabel('Jenis Kelamin dan Perilaku merokok')\n",
        "plt.ylabel('Biaya Asuransi')\n",
        "fig.set_size_inches(15, 5)\n",
        "\n",
        "print('\\n')"
      ],
      "execution_count": 91,
      "outputs": [
        {
          "output_type": "stream",
          "text": [
            "\n",
            "\n"
          ],
          "name": "stdout"
        },
        {
          "output_type": "display_data",
          "data": {
            "image/png": "[encoded data removed]",
            "text/plain": [
              "<Figure size 1080x360 with 1 Axes>"
            ]
          },
          "metadata": {
            "tags": [],
            "needs_background": "light"
          }
        }
      ]
    },
    {
      "cell_type": "code",
      "metadata": {
        "id": "KBVtG5Db-G4u",
        "colab_type": "code",
        "colab": {}
      },
      "source": [
        ""
      ],
      "execution_count": null,
      "outputs": []
    }
  ]
}