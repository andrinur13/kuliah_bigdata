{
  "nbformat": 4,
  "nbformat_minor": 0,
  "metadata": {
    "colab": {
      "name": "1800018190.ipynb",
      "provenance": [],
      "collapsed_sections": [],
      "authorship_tag": "ABX9TyPWmF4HC8Rrd+rrCVlH2VRr",
      "include_colab_link": true
    },
    "kernelspec": {
      "name": "python3",
      "display_name": "Python 3"
    }
  },
  "cells": [
    {
      "cell_type": "markdown",
      "metadata": {
        "id": "view-in-github",
        "colab_type": "text"
      },
      "source": [
        "<a href=\"https://colab.research.google.com/github/andrinur13/kuliah_bigdata/blob/master/1800018190.ipynb\" target=\"_parent\"><img src=\"https://colab.research.google.com/assets/colab-badge.svg\" alt=\"Open In Colab\"/></a>"
      ]
    },
    {
      "cell_type": "markdown",
      "metadata": {
        "id": "ezXTuJOiFusK",
        "colab_type": "text"
      },
      "source": [
        "### **Perbandingan Rata-Rata Biaya Asuransi Kesehatan (Insurance) Berdasarkan Jenis Kelamin dan Perilaku Merokok**\n",
        "\n",
        "Nama  : Andri Nur Hidayatulloh\n",
        "\n",
        "NIM   : 1800018190 "
      ]
    },
    {
      "cell_type": "markdown",
      "metadata": {
        "id": "2onpxd-9LRBH",
        "colab_type": "text"
      },
      "source": [
        "### **Persiapan Environtment**"
      ]
    },
    {
      "cell_type": "markdown",
      "metadata": {
        "id": "PlRDYZ4on1rR",
        "colab_type": "text"
      },
      "source": [
        "Instalasi java jdk dan pyspark\n",
        "\n",
        "Instalasi package findspark dan pyspark_dist_explore."
      ]
    },
    {
      "cell_type": "code",
      "metadata": {
        "id": "CICZgxAX_HRQ",
        "colab_type": "code",
        "colab": {}
      },
      "source": [
        "! apt-get install openjdk-8-jdk-headless -qq > /dev/null\n",
        "! wget -q https://downloads.apache.org/spark/spark-2.4.6/spark-2.4.6-bin-hadoop2.7.tgz\n",
        "! tar xf spark-2.4.6-bin-hadoop2.7.tgz\n",
        "! pip install -q findspark\n",
        "! pip install pyspark_dist_explore"
      ],
      "execution_count": null,
      "outputs": []
    },
    {
      "cell_type": "markdown",
      "metadata": {
        "id": "k-ijoREyoAaZ",
        "colab_type": "text"
      },
      "source": [
        "Import package OS dan set environtment Java"
      ]
    },
    {
      "cell_type": "code",
      "metadata": {
        "id": "CHzmFi31_tdm",
        "colab_type": "code",
        "colab": {}
      },
      "source": [
        "import os\n",
        "os.environ[\"JAVA_HOME\"] = \"/usr/lib/jvm/java-8-openjdk-amd64\"\n",
        "os.environ[\"SPARK_HOME\"] = \"/content/spark-2.4.5-bin-hadoop2.7\""
      ],
      "execution_count": 2,
      "outputs": []
    },
    {
      "cell_type": "markdown",
      "metadata": {
        "id": "XWFoFS2boGVb",
        "colab_type": "text"
      },
      "source": [
        "import package yang akan digunakan"
      ]
    },
    {
      "cell_type": "code",
      "metadata": {
        "id": "xocpLstzAzEi",
        "colab_type": "code",
        "colab": {}
      },
      "source": [
        "import findspark\n",
        "findspark.init(\"spark-2.4.6-bin-hadoop2.7\")# SPARK_HOME\n",
        "from pyspark.sql import SparkSession\n",
        "spark = SparkSession.builder.master(\"local[*]\").getOrCreate()\n",
        "from pyspark.sql.functions import col, avg\n",
        "from matplotlib import pyplot as plt\n",
        "from pyspark_dist_explore import Histogram, hist"
      ],
      "execution_count": 3,
      "outputs": []
    },
    {
      "cell_type": "markdown",
      "metadata": {
        "id": "dIxT1P0HotYp",
        "colab_type": "text"
      },
      "source": [
        "Inisialisasi SparkContext dan SparkSession"
      ]
    },
    {
      "cell_type": "code",
      "metadata": {
        "id": "oY0k5WsIA2mi",
        "colab_type": "code",
        "colab": {}
      },
      "source": [
        "sc = spark.sparkContext\n",
        "spark = SparkSession(sc)"
      ],
      "execution_count": 4,
      "outputs": []
    },
    {
      "cell_type": "markdown",
      "metadata": {
        "id": "jv5Bl_aFM-rz",
        "colab_type": "text"
      },
      "source": [
        "### **Load Dataset**"
      ]
    },
    {
      "cell_type": "code",
      "metadata": {
        "id": "9XWauIBJA5Lu",
        "colab_type": "code",
        "colab": {
          "base_uri": "https://localhost:8080/",
          "height": 179
        },
        "outputId": "a317a419-034b-4e36-a741-223c5003d767"
      },
      "source": [
        "data = spark.read.csv('insurance.csv', header=True, inferSchema=True)\n",
        "data.printSchema()"
      ],
      "execution_count": 5,
      "outputs": [
        {
          "output_type": "stream",
          "text": [
            "root\n",
            " |-- age: integer (nullable = true)\n",
            " |-- sex: string (nullable = true)\n",
            " |-- bmi: double (nullable = true)\n",
            " |-- children: integer (nullable = true)\n",
            " |-- smoker: string (nullable = true)\n",
            " |-- region: string (nullable = true)\n",
            " |-- charges: double (nullable = true)\n",
            "\n"
          ],
          "name": "stdout"
        }
      ]
    },
    {
      "cell_type": "markdown",
      "metadata": {
        "id": "7PE1H1wwLymk",
        "colab_type": "text"
      },
      "source": [
        "Pada dataset insurances tersebut terdapat 7 kolom data yaitu : \n",
        "\n",
        "\n",
        "\n",
        "1.   Age (Umur dari pengguna asuransi kesehatan)\n",
        "2.   Sex (Jenis kelamin dari pengguna asuransi)\n",
        "3.   BMI (Index masa tubuh)\n",
        "4.   Children (Jumlah Anak)\n",
        "5.   Smoker (perilaku pengguna asuransi apakah merokok atau tidak)\n",
        "6.   Region (alamat pengguna asuransi)\n",
        "7.   Charges (biaya asuransi)\n",
        "\n",
        "Pada kasus kali ini akan dianalisis pada kolom Sex, Smoker dan Charges\n",
        "\n"
      ]
    },
    {
      "cell_type": "markdown",
      "metadata": {
        "id": "1QA2EznUNEdd",
        "colab_type": "text"
      },
      "source": [
        "## **1. Proses EDA**"
      ]
    },
    {
      "cell_type": "markdown",
      "metadata": {
        "id": "-mqeEfYVNNmY",
        "colab_type": "text"
      },
      "source": [
        "Total Data Pengguna Asuransi"
      ]
    },
    {
      "cell_type": "code",
      "metadata": {
        "id": "vjJymFjlB--q",
        "colab_type": "code",
        "colab": {
          "base_uri": "https://localhost:8080/",
          "height": 35
        },
        "outputId": "0f6bb969-8cde-46da-aa7f-a685c79d2b7a"
      },
      "source": [
        "print(\"Total Pengguna Asuransi : \", data.count())"
      ],
      "execution_count": 6,
      "outputs": [
        {
          "output_type": "stream",
          "text": [
            "Total Pengguna Asuransi :  1338\n"
          ],
          "name": "stdout"
        }
      ]
    },
    {
      "cell_type": "markdown",
      "metadata": {
        "id": "E1YzNj-xWFjB",
        "colab_type": "text"
      },
      "source": [
        "Lihat 5 data teratas pada data tersebut"
      ]
    },
    {
      "cell_type": "code",
      "metadata": {
        "id": "YK-Br-OWWPRM",
        "colab_type": "code",
        "colab": {
          "base_uri": "https://localhost:8080/",
          "height": 215
        },
        "outputId": "98eca581-f573-47ee-fc3a-2379536d4d52"
      },
      "source": [
        "data.show(5)"
      ],
      "execution_count": 7,
      "outputs": [
        {
          "output_type": "stream",
          "text": [
            "+---+------+------+--------+------+---------+-----------+\n",
            "|age|   sex|   bmi|children|smoker|   region|    charges|\n",
            "+---+------+------+--------+------+---------+-----------+\n",
            "| 19|female|  27.9|       0|   yes|southwest|  16884.924|\n",
            "| 18|  male| 33.77|       1|    no|southeast|  1725.5523|\n",
            "| 28|  male|  33.0|       3|    no|southeast|   4449.462|\n",
            "| 33|  male|22.705|       0|    no|northwest|21984.47061|\n",
            "| 32|  male| 28.88|       0|    no|northwest|  3866.8552|\n",
            "+---+------+------+--------+------+---------+-----------+\n",
            "only showing top 5 rows\n",
            "\n"
          ],
          "name": "stdout"
        }
      ]
    },
    {
      "cell_type": "markdown",
      "metadata": {
        "id": "9FHgJiTUNje5",
        "colab_type": "text"
      },
      "source": [
        "**Statistik dataset pengguna asuransi kesehatan**"
      ]
    },
    {
      "cell_type": "code",
      "metadata": {
        "id": "uNirIlxDNfPu",
        "colab_type": "code",
        "colab": {
          "base_uri": "https://localhost:8080/",
          "height": 197
        },
        "outputId": "9530848d-7f38-4ec6-a274-42728b81eb41"
      },
      "source": [
        "data.describe().show()"
      ],
      "execution_count": 8,
      "outputs": [
        {
          "output_type": "stream",
          "text": [
            "+-------+------------------+------+------------------+-----------------+------+---------+------------------+\n",
            "|summary|               age|   sex|               bmi|         children|smoker|   region|           charges|\n",
            "+-------+------------------+------+------------------+-----------------+------+---------+------------------+\n",
            "|  count|              1338|  1338|              1338|             1338|  1338|     1338|              1338|\n",
            "|   mean| 39.20702541106129|  null|30.663396860986538|  1.0949177877429|  null|     null|13270.422265141257|\n",
            "| stddev|14.049960379216147|  null| 6.098186911679012|1.205492739781914|  null|     null|12110.011236693992|\n",
            "|    min|                18|female|             15.96|                0|    no|northeast|         1121.8739|\n",
            "|    max|                64|  male|             53.13|                5|   yes|southwest|       63770.42801|\n",
            "+-------+------------------+------+------------------+-----------------+------+---------+------------------+\n",
            "\n"
          ],
          "name": "stdout"
        }
      ]
    },
    {
      "cell_type": "markdown",
      "metadata": {
        "id": "b2ofugWKQrH3",
        "colab_type": "text"
      },
      "source": [
        "Statistik data : \n",
        "\n",
        "pada colom sex, smoker dan region memiliki nilai mean, standar deviasi **null**. Hal ini dikarenakan data tersebut bukan berisi angka namun berisi string, oleh sebab itu menghasilkan null karena string tidak dapat dikalkukasi dalam proses mean dan sttdev"
      ]
    },
    {
      "cell_type": "markdown",
      "metadata": {
        "id": "XzJPTVn8ShvJ",
        "colab_type": "text"
      },
      "source": [
        "**Persebaran Data pada kolom charges**"
      ]
    },
    {
      "cell_type": "code",
      "metadata": {
        "id": "I3lmTgwvRYgt",
        "colab_type": "code",
        "colab": {
          "base_uri": "https://localhost:8080/",
          "height": 334
        },
        "outputId": "087c1cfe-33da-4f0b-f3a5-a49f0b8ad2d9"
      },
      "source": [
        "data_charges = data.select('charges')\n",
        "\n",
        "fig, axes = plt.subplots()\n",
        "fig.set_size_inches(8, 5)\n",
        "hist(axes, data_charges, color=\"blue\")\n",
        "plt.xlabel('Persebaran Data Biaya (charges)')\n",
        "plt.ylabel('Banyak')\n",
        "\n",
        "plt.show()"
      ],
      "execution_count": 10,
      "outputs": [
        {
          "output_type": "display_data",
          "data": {
            "image/png": "[encoded data removed]",
            "text/plain": [
              "<Figure size 576x360 with 1 Axes>"
            ]
          },
          "metadata": {
            "tags": [],
            "needs_background": "light"
          }
        }
      ]
    },
    {
      "cell_type": "markdown",
      "metadata": {
        "id": "n7uz17wUTLZM",
        "colab_type": "text"
      },
      "source": [
        "Pada data persebaran **biaya asuransi (charges)** tidak terdapat outlier, dan biaya terkecil asuransi tersebut adalah 1121.8739 dan biaya terbesar asuransi tersebut adalah 63770.42801 "
      ]
    },
    {
      "cell_type": "markdown",
      "metadata": {
        "id": "j894pjeLUPgr",
        "colab_type": "text"
      },
      "source": [
        "**Cek apakah adat data yang kosong (null)**"
      ]
    },
    {
      "cell_type": "code",
      "metadata": {
        "id": "sy1w52EbQpe0",
        "colab_type": "code",
        "colab": {
          "base_uri": "https://localhost:8080/",
          "height": 143
        },
        "outputId": "d4bc8396-de47-42df-ffee-88a9a1df657d"
      },
      "source": [
        "table = ['age', 'sex', 'bmi', 'children', 'smoker', 'region', 'charges']\n",
        "\n",
        "for kolom in table:\n",
        "  print('jumlah data yang bernilai null pada colom ', kolom, ' : ', data.where(col(kolom).isNull()).count())"
      ],
      "execution_count": 11,
      "outputs": [
        {
          "output_type": "stream",
          "text": [
            "jumlah data yang bernilai null pada colom  age  :  0\n",
            "jumlah data yang bernilai null pada colom  sex  :  0\n",
            "jumlah data yang bernilai null pada colom  bmi  :  0\n",
            "jumlah data yang bernilai null pada colom  children  :  0\n",
            "jumlah data yang bernilai null pada colom  smoker  :  0\n",
            "jumlah data yang bernilai null pada colom  region  :  0\n",
            "jumlah data yang bernilai null pada colom  charges  :  0\n"
          ],
          "name": "stdout"
        }
      ]
    },
    {
      "cell_type": "code",
      "metadata": {
        "id": "NvGbuH9lYUau",
        "colab_type": "code",
        "colab": {}
      },
      "source": [
        ""
      ],
      "execution_count": 11,
      "outputs": []
    },
    {
      "cell_type": "markdown",
      "metadata": {
        "id": "5hNTNNW2UalG",
        "colab_type": "text"
      },
      "source": [
        "Pada dataset tersebut tidak terdapat data yang kosong/null."
      ]
    },
    {
      "cell_type": "markdown",
      "metadata": {
        "id": "pvjobRQRWrvO",
        "colab_type": "text"
      },
      "source": [
        "## **2. PRE PROCESSING**\n",
        "\n",
        "Karena tidak ada data yang null, maka data tersebut sudah siap untuk diproses.\n",
        "\n",
        "Namun, data tersebut akan difilter / seleksi pada kolom yang dibutuhkan saja.\n",
        "\n",
        "Pada data tersebut kita butuh kolom sex, smoker dan charges"
      ]
    },
    {
      "cell_type": "code",
      "metadata": {
        "id": "FAhOp6_CVk9r",
        "colab_type": "code",
        "colab": {
          "base_uri": "https://localhost:8080/",
          "height": 305
        },
        "outputId": "926ca97d-2b86-4776-a6a1-27de472ef293"
      },
      "source": [
        "# seleksi data\n",
        "dataDF = data.select('sex', 'smoker', 'charges')\n",
        "\n",
        "# tampilkan 10 data teratas\n",
        "dataDF.show(10)"
      ],
      "execution_count": 12,
      "outputs": [
        {
          "output_type": "stream",
          "text": [
            "+------+------+-----------+\n",
            "|   sex|smoker|    charges|\n",
            "+------+------+-----------+\n",
            "|female|   yes|  16884.924|\n",
            "|  male|    no|  1725.5523|\n",
            "|  male|    no|   4449.462|\n",
            "|  male|    no|21984.47061|\n",
            "|  male|    no|  3866.8552|\n",
            "|female|    no|  3756.6216|\n",
            "|female|    no|  8240.5896|\n",
            "|female|    no|  7281.5056|\n",
            "|  male|    no|  6406.4107|\n",
            "|female|    no|28923.13692|\n",
            "+------+------+-----------+\n",
            "only showing top 10 rows\n",
            "\n"
          ],
          "name": "stdout"
        }
      ]
    },
    {
      "cell_type": "markdown",
      "metadata": {
        "id": "-VjqwL4bWx1R",
        "colab_type": "text"
      },
      "source": [
        "## **3. PEMROSESAN DATA**"
      ]
    },
    {
      "cell_type": "markdown",
      "metadata": {
        "id": "qXP2IKq1XYqE",
        "colab_type": "text"
      },
      "source": [
        "Pada pemrosesan data ini akan dianalisis perbandingan rata-rata biaya asuransi kesehatan berdasarkan jenis kelamin dan perilaku merokok"
      ]
    },
    {
      "cell_type": "markdown",
      "metadata": {
        "id": "qS8PZi5HXrRr",
        "colab_type": "text"
      },
      "source": [
        "**3.1 Perbandingan rata-rata biaya asuransi kesehatan berdasarkan jenis kelamin**"
      ]
    },
    {
      "cell_type": "markdown",
      "metadata": {
        "id": "Cdebm3kfWrVH",
        "colab_type": "text"
      },
      "source": [
        "Pada pemrosesan rata-rata biaya asuransi kesehatan berdasarkan jenis kelamin menggunakan transformation dan action pada spark dataframe"
      ]
    },
    {
      "cell_type": "code",
      "metadata": {
        "id": "xOJGKVCqWvIl",
        "colab_type": "code",
        "colab": {
          "base_uri": "https://localhost:8080/",
          "height": 737
        },
        "outputId": "86bf912d-d7a3-4492-82ee-fdf14210aba5"
      },
      "source": [
        "# pada pemrosesan data ini menggunakan transformasi dan action pada spark dataframe\n",
        "\n",
        "# seleksi data perempuan\n",
        "data_perempuan = dataDF.filter(dataDF.sex == 'female')\n",
        "\n",
        "# seleksi data laki-laki\n",
        "data_lakiLaki = dataDF.filter(dataDF.sex == 'male')\n",
        "\n",
        "# hitung rata-rata biaya asuransi kesehatan berdasarkan jenis kelamin\n",
        "rata_rata_biaya_jk = dataDF.groupBy('sex').avg('charges')\n",
        "\n",
        "# output\n",
        "print(\"Jumlah pengguna asuransi perempuan   : \", data_perempuan.count())\n",
        "print(\"Jumlah pengguna asuransi laki-laki   : \", data_lakiLaki.count())\n",
        "\n",
        "print('\\n')\n",
        "\n",
        "# 5 data teratas pengguna asuransi perempuan\n",
        "print('5 data teratas pengguna asuransi berjenis kelamin perempuan')\n",
        "data_perempuan.show(5)\n",
        "\n",
        "print('\\n')\n",
        "\n",
        "print('5 data teratas pengguna asuransi berjenis kelamin laki-laki')\n",
        "data_lakiLaki.show(5)\n",
        "\n",
        "print('\\n')\n",
        "\n",
        "print('Perbandingan biaya asuransi kesehatan berdasarkan jenis kelamin')\n",
        "rata_rata_biaya_jk.show()\n",
        "\n",
        "# ambil data single value dari spark sql\n",
        "rata_biaya_pr = rata_rata_biaya_jk.collect()[0][1]\n",
        "rata_biaya_lk = rata_rata_biaya_jk.collect()[1][1]"
      ],
      "execution_count": 13,
      "outputs": [
        {
          "output_type": "stream",
          "text": [
            "Jumlah pengguna asuransi perempuan   :  662\n",
            "Jumlah pengguna asuransi laki-laki   :  676\n",
            "\n",
            "\n",
            "5 data teratas pengguna asuransi berjenis kelamin perempuan\n",
            "+------+------+-----------+\n",
            "|   sex|smoker|    charges|\n",
            "+------+------+-----------+\n",
            "|female|   yes|  16884.924|\n",
            "|female|    no|  3756.6216|\n",
            "|female|    no|  8240.5896|\n",
            "|female|    no|  7281.5056|\n",
            "|female|    no|28923.13692|\n",
            "+------+------+-----------+\n",
            "only showing top 5 rows\n",
            "\n",
            "\n",
            "\n",
            "5 data teratas pengguna asuransi berjenis kelamin laki-laki\n",
            "+----+------+-----------+\n",
            "| sex|smoker|    charges|\n",
            "+----+------+-----------+\n",
            "|male|    no|  1725.5523|\n",
            "|male|    no|   4449.462|\n",
            "|male|    no|21984.47061|\n",
            "|male|    no|  3866.8552|\n",
            "|male|    no|  6406.4107|\n",
            "+----+------+-----------+\n",
            "only showing top 5 rows\n",
            "\n",
            "\n",
            "\n",
            "Perbandingan biaya asuransi kesehatan berdasarkan jenis kelamin\n",
            "+------+------------------+\n",
            "|   sex|      avg(charges)|\n",
            "+------+------------------+\n",
            "|female| 12569.57884383534|\n",
            "|  male|13956.751177721886|\n",
            "+------+------------------+\n",
            "\n"
          ],
          "name": "stdout"
        }
      ]
    },
    {
      "cell_type": "markdown",
      "metadata": {
        "id": "dwNiLW_ybveY",
        "colab_type": "text"
      },
      "source": [
        "Pada data tersebut telah dilakukan pemrosesan data berupa seleksi pengguna asuransi kesehatan berdasarkan jenis kelamin, yaitu laki-laki dan perempuan. Hasil tersebut didapat banyak pengguna asuransi kesehatan berjenis kelamin perempuan sebanyak **662** dan pengguna asuransi kesehatan berjenis kelamin laki-laki sebanyak **676**.\n",
        "\n",
        "Lalu dilakukan pemrosesan data berupa perhitungan rata-rata biaya asuransi kesehatan berdasarkan jenis kelamin. Didapat hasil rata-rata biaya asuransi kesehatan perempuan adalah : **12569.57884383534**, sedangkan untuk laki-laki adalah : **13956.751177721886**"
      ]
    },
    {
      "cell_type": "markdown",
      "metadata": {
        "id": "6eYr4Po9dSAC",
        "colab_type": "text"
      },
      "source": [
        "**3.2 Perbandingan rata-rata biaya asuransi kesehatan berdasarkan perilaku merokok**"
      ]
    },
    {
      "cell_type": "markdown",
      "metadata": {
        "id": "GVyAQM6DYtt8",
        "colab_type": "text"
      },
      "source": [
        "Pada pemrosesan rata-rata biaya asuransi kesehatan berdasarkan perilaku merokok menggunakan pemrosesan spark dataframe"
      ]
    },
    {
      "cell_type": "code",
      "metadata": {
        "id": "XbBXmvGQYXas",
        "colab_type": "code",
        "colab": {
          "base_uri": "https://localhost:8080/",
          "height": 665
        },
        "outputId": "6c0eee9c-e425-4a40-b3b3-8e6dd7ffc829"
      },
      "source": [
        "# pada pemrosesan data ini menggunakan transformasi dan action pada spark dataframe\n",
        "\n",
        "# filter data pengguna asuransi yang merokok\n",
        "data_perokok = dataDF.filter(dataDF.smoker == 'yes')\n",
        "\n",
        "# filter data pengguna asuransi yang tidak merokok\n",
        "data_tidak_perokok = dataDF.filter(dataDF.smoker == 'no')\n",
        "\n",
        "# hitung rata-rata biaya asuransi kesehatan berdasarkan perilaku merokok\n",
        "rata_rata_biaya_pmrk = dataDF.groupBy('smoker').avg('charges')\n",
        "\n",
        "# ambil single value dari spark datframe\n",
        "rata_biaya_jika_tidak_perokok = rata_rata_biaya_pmrk.collect()[0][1]\n",
        "rata_biaya_jika_perokok = rata_rata_biaya_pmrk.collect()[1][1]\n",
        "\n",
        "# output\n",
        "print('Jumlah pengguna asuransi kesehatan yang merokok       : ', data_perokok.count())\n",
        "print('Jumlah pengguna asuransi kesehatan yang tidak merokok : ', data_tidak_perokok.count())\n",
        "\n",
        "print('\\n')\n",
        "\n",
        "print('5 data teratas pengguna asuransi yang merokok')\n",
        "data_perokok.show(5)\n",
        "\n",
        "print('5 data teratas pengguna asuransi kesehatan yang tidak merokok')\n",
        "data_tidak_perokok.show(5)\n",
        "\n",
        "print('Rata rata perbandingan biaya asuransi kesehatan berdasarkan perilaku merokok')\n",
        "rata_rata_biaya_pmrk.show()"
      ],
      "execution_count": 14,
      "outputs": [
        {
          "output_type": "stream",
          "text": [
            "Jumlah pengguna asuransi kesehatan yang merokok       :  274\n",
            "Jumlah pengguna asuransi kesehatan yang tidak merokok :  1064\n",
            "\n",
            "\n",
            "5 data teratas pengguna asuransi yang merokok\n",
            "+------+------+----------+\n",
            "|   sex|smoker|   charges|\n",
            "+------+------+----------+\n",
            "|female|   yes| 16884.924|\n",
            "|female|   yes|27808.7251|\n",
            "|  male|   yes|39611.7577|\n",
            "|  male|   yes| 36837.467|\n",
            "|female|   yes|37701.8768|\n",
            "+------+------+----------+\n",
            "only showing top 5 rows\n",
            "\n",
            "5 data teratas pengguna asuransi kesehatan yang tidak merokok\n",
            "+------+------+-----------+\n",
            "|   sex|smoker|    charges|\n",
            "+------+------+-----------+\n",
            "|  male|    no|  1725.5523|\n",
            "|  male|    no|   4449.462|\n",
            "|  male|    no|21984.47061|\n",
            "|  male|    no|  3866.8552|\n",
            "|female|    no|  3756.6216|\n",
            "+------+------+-----------+\n",
            "only showing top 5 rows\n",
            "\n",
            "Rata rata perbandingan biaya asuransi kesehatan berdasarkan perilaku merokok\n",
            "+------+-----------------+\n",
            "|smoker|     avg(charges)|\n",
            "+------+-----------------+\n",
            "|    no|8434.268297856199|\n",
            "|   yes|32050.23183153285|\n",
            "+------+-----------------+\n",
            "\n"
          ],
          "name": "stdout"
        }
      ]
    },
    {
      "cell_type": "markdown",
      "metadata": {
        "id": "KOdBIit1gqiN",
        "colab_type": "text"
      },
      "source": [
        "Pada data tersebut telah dilakukan pemrosesan data berupa seleksi pengguna asuransi kesehatan berdasarkan perilaku merokok. Hasil tersebut didapat banyak pengguna asuransi kesehatan yang merokok sebanyak **274** dan pengguna asuransi kesehatan yang tidak merokok sebanyak **1064**.\n",
        "\n",
        "Lalu dilakukan pemrosesan data berupa perhitungan rata-rata biaya asuransi kesehatan berdasarkan perilaku merokok. Didapat hasil rata-rata biaya asuransi kesehatan untuk orang yang merokok adalah : **32050.23183153285**, sedangkan untuk orang yang tidak merokok adalah : 32050.23183153285"
      ]
    },
    {
      "cell_type": "markdown",
      "metadata": {
        "id": "T2YzBEOB6J0O",
        "colab_type": "text"
      },
      "source": [
        "**3.3 Perbandingan rata-rata biaya asuransi kesehatan berdasarkan jenis kelamin dan perilaku merokok**"
      ]
    },
    {
      "cell_type": "code",
      "metadata": {
        "id": "o0LuSB-VeILH",
        "colab_type": "code",
        "colab": {
          "base_uri": "https://localhost:8080/",
          "height": 287
        },
        "outputId": "ead332d6-de4a-400f-d27c-175d14fbce03"
      },
      "source": [
        "# pada pemrosesan data ini menggunakan transformasi dan action pada spark dataframe\n",
        "\n",
        "# filter pengguna asuransi perempuan yang merokok\n",
        "data_perempuan_perokok = data_perempuan.filter(data_perempuan['smoker'] == 'yes')\n",
        "\n",
        "# filter pengguna asuransi perempuan yang tidak merokok\n",
        "data_perempuan_tidak_perokok = data_perempuan.filter(data_perempuan['smoker'] == 'no')\n",
        "\n",
        "# filter pengguna asuransi laki-laki yang merokok\n",
        "data_lakiLaki_perokok = data_lakiLaki.filter(data_lakiLaki['smoker'] == 'yes')\n",
        "\n",
        "# filter pengguna asuransi laki-laki yang tidak merokok\n",
        "data_lakiLaki_tidak_perokok = data_lakiLaki.filter(data_lakiLaki['smoker'] == 'no')\n",
        "\n",
        "# hitung rata-rata biaya asuransi kesehatan\n",
        "rata_biaya_berdasarkan_jk_dan_perokok = dataDF.groupby('sex', 'smoker').avg('charges')\n",
        "\n",
        "# ambil single value dari dataframe\n",
        "pr_mrkk = rata_biaya_berdasarkan_jk_dan_perokok.collect()[2][2]\n",
        "pr_tdk_mrkk = rata_biaya_berdasarkan_jk_dan_perokok.collect()[3][2]\n",
        "lk_mrkk = rata_biaya_berdasarkan_jk_dan_perokok.collect()[1][2]\n",
        "lk_tdk_mrkk = rata_biaya_berdasarkan_jk_dan_perokok.collect()[0][2]\n",
        "\n",
        "# output\n",
        "\n",
        "print('Perempuan merokok sebanyak          : ', data_perempuan_perokok.count())\n",
        "print('Perempuan tidak merokok sebanyak    : ', data_perempuan_tidak_perokok.count())\n",
        "print('Laki-laki merokok sebanyak          : ', data_lakiLaki_perokok.count())\n",
        "print('Laki-laki tidak merokok sebanyak    : ', data_lakiLaki_tidak_perokok.count())\n",
        "\n",
        "print('\\n Rata-rata biaya asuransi kesehatan')\n",
        "\n",
        "rata_biaya_berdasarkan_jk_dan_perokok.show()"
      ],
      "execution_count": 15,
      "outputs": [
        {
          "output_type": "stream",
          "text": [
            "Perempuan merokok sebanyak          :  115\n",
            "Perempuan tidak merokok sebanyak    :  547\n",
            "Laki-laki merokok sebanyak          :  159\n",
            "Laki-laki tidak merokok sebanyak    :  517\n",
            "\n",
            " Rata-rata biaya asuransi kesehatan\n",
            "+------+------+------------------+\n",
            "|   sex|smoker|      avg(charges)|\n",
            "+------+------+------------------+\n",
            "|  male|    no| 8087.204731276592|\n",
            "|  male|   yes| 33042.00597528302|\n",
            "|female|   yes|30678.996276260867|\n",
            "|female|    no| 8762.297299541116|\n",
            "+------+------+------------------+\n",
            "\n"
          ],
          "name": "stdout"
        }
      ]
    },
    {
      "cell_type": "markdown",
      "metadata": {
        "id": "oA4tSgqDhQuA",
        "colab_type": "text"
      },
      "source": [
        "## **4. VISUALISASI DATA**\n",
        "\n",
        "visualisasi data kali ini menggunakan library matplotlib, menggunakan grafis bar.\n",
        "\n",
        "Data yang akan divisulisasi yaitu rata-rata biaya asuransi kesehatan berdasarkan jenis kelamin, berdasarkan perilaku merokok dan keduanya."
      ]
    },
    {
      "cell_type": "markdown",
      "metadata": {
        "id": "vviViyMjSTBT",
        "colab_type": "text"
      },
      "source": [
        "**4.1 Rata rata biaya asuransi berdasarkan jenis kelamin**"
      ]
    },
    {
      "cell_type": "markdown",
      "metadata": {
        "id": "pe4use1IS_R3",
        "colab_type": "text"
      },
      "source": [
        "Jumlah pengguna asuransi berdasarkan jenis kelamin"
      ]
    },
    {
      "cell_type": "code",
      "metadata": {
        "id": "9pfo7R8EhXWo",
        "colab_type": "code",
        "colab": {
          "base_uri": "https://localhost:8080/",
          "height": 355
        },
        "outputId": "bc154e93-97b7-40a4-86c1-adb6a8e0ca32"
      },
      "source": [
        "# plotting data\n",
        "fig, axes = plt.subplots()\n",
        "\n",
        "# jumlah pengguna asuransi laki-laki dan perempuan\n",
        "fig.set_size_inches(7, 5)\n",
        "\n",
        "plt.title('Perbandingan jumlah pengguna asuransi')\n",
        "plt.pie([data_perempuan.count(), data_lakiLaki.count()], labels=['Perempuan', 'Laki-laki'], autopct='%1.1f%%', shadow=True, startangle=40, colors=['#6ebfb5', 'orange'])\n",
        "print('\\n')"
      ],
      "execution_count": 16,
      "outputs": [
        {
          "output_type": "stream",
          "text": [
            "\n",
            "\n"
          ],
          "name": "stdout"
        },
        {
          "output_type": "display_data",
          "data": {
            "image/png": "[encoded data removed]",
            "text/plain": [
              "<Figure size 504x360 with 1 Axes>"
            ]
          },
          "metadata": {
            "tags": []
          }
        }
      ]
    },
    {
      "cell_type": "markdown",
      "metadata": {
        "id": "hzvaAd3fTZmg",
        "colab_type": "text"
      },
      "source": [
        "Perbandingan rata-rata biaya asuransi kesehatan berdasarkan jenis kelamin"
      ]
    },
    {
      "cell_type": "code",
      "metadata": {
        "id": "vJMChepPRVhV",
        "colab_type": "code",
        "colab": {
          "base_uri": "https://localhost:8080/",
          "height": 372
        },
        "outputId": "e1b9e4ea-4044-45b9-86c3-bd5d9597ac99"
      },
      "source": [
        "# perbandingan biaya asuransi berdasarkan jenis kelamin\n",
        "fig, axes = plt.subplots()\n",
        "\n",
        "fig.set_size_inches(7, 5)\n",
        "plt.title('Perbandingan biaya asuransi berdasarkan jenis kelamin')\n",
        "plt.bar('Perempuan', rata_biaya_pr, color='#6ebfb5')\n",
        "plt.bar('Laki-laki', rata_biaya_lk, color='orange')\n",
        "print('\\n')"
      ],
      "execution_count": 17,
      "outputs": [
        {
          "output_type": "stream",
          "text": [
            "\n",
            "\n"
          ],
          "name": "stdout"
        },
        {
          "output_type": "display_data",
          "data": {
            "image/png": "[encoded data removed]",
            "text/plain": [
              "<Figure size 504x360 with 1 Axes>"
            ]
          },
          "metadata": {
            "tags": [],
            "needs_background": "light"
          }
        }
      ]
    },
    {
      "cell_type": "markdown",
      "metadata": {
        "id": "ZOZONQc102af",
        "colab_type": "text"
      },
      "source": [
        "Didapat sebuah kesimpulan, dari data tersebut mengatakan bahwa biaya asuransi kesehatan yang dibayarkan berdasarkan jenis kelamin, laki-laki memiliki biaya yang harus dibayarkan lebih tinggi dari pada biaya asuransi yang dibayarkan oleh perempuan"
      ]
    },
    {
      "cell_type": "markdown",
      "metadata": {
        "id": "pQME8lNHXo41",
        "colab_type": "text"
      },
      "source": [
        "**4.2 Rata rata biaya asuransi berdasarkan perilaku merokok**"
      ]
    },
    {
      "cell_type": "code",
      "metadata": {
        "id": "_iHMCoR-YA4e",
        "colab_type": "code",
        "colab": {
          "base_uri": "https://localhost:8080/",
          "height": 355
        },
        "outputId": "d26a980d-92cb-41c7-c9f9-e0d14ea1df33"
      },
      "source": [
        "# plotting data\n",
        "fig, axes = plt.subplots()\n",
        "\n",
        "# jumlah pengguna asuransi laki-laki dan perempuan\n",
        "fig.set_size_inches(7, 5)\n",
        "\n",
        "plt.title('Jumlah pengguna asuransi yang merokok dan tidak merokok')\n",
        "plt.pie([data_perokok.count(), data_tidak_perokok.count()], labels=['Perokok', 'Tidak Perokok'], autopct='%1.1f%%', shadow=True, startangle=40, colors=['#f9d56e', '#b7efcd'])\n",
        "print('\\n')"
      ],
      "execution_count": 18,
      "outputs": [
        {
          "output_type": "stream",
          "text": [
            "\n",
            "\n"
          ],
          "name": "stdout"
        },
        {
          "output_type": "display_data",
          "data": {
            "image/png": "[encoded data removed]",
            "text/plain": [
              "<Figure size 504x360 with 1 Axes>"
            ]
          },
          "metadata": {
            "tags": []
          }
        }
      ]
    },
    {
      "cell_type": "code",
      "metadata": {
        "colab_type": "code",
        "id": "iyF_nf1TjqdN",
        "colab": {
          "base_uri": "https://localhost:8080/",
          "height": 386
        },
        "outputId": "8e097bb6-e881-48d0-c989-184259751f3c"
      },
      "source": [
        "# plotting data \n",
        "\n",
        "# rata-rata biaya asuransi kesehatan berdasarkan perilaku merokok\n",
        "# rata_rata_biaya_pr.collect()\n",
        "fig, axes = plt.subplots()\n",
        "\n",
        "plt.title('Perbandingan rata-rata biaya asuransi berdasarkan perilaku merokok')\n",
        "plt.bar('Perokok', rata_biaya_jika_perokok, color='#f9d56e')\n",
        "plt.bar('Tidak Perokok', rata_biaya_jika_tidak_perokok, color='#b7efcd')\n",
        "plt.xlabel('Perilaku merokok')\n",
        "plt.ylabel('Biaya Asuransi')\n",
        "fig.set_size_inches(7, 5)\n",
        "\n",
        "print('\\n')"
      ],
      "execution_count": 19,
      "outputs": [
        {
          "output_type": "stream",
          "text": [
            "\n",
            "\n"
          ],
          "name": "stdout"
        },
        {
          "output_type": "display_data",
          "data": {
            "image/png": "[encoded data removed]",
            "text/plain": [
              "<Figure size 504x360 with 1 Axes>"
            ]
          },
          "metadata": {
            "tags": [],
            "needs_background": "light"
          }
        }
      ]
    },
    {
      "cell_type": "markdown",
      "metadata": {
        "id": "63u1oQdZ1J3L",
        "colab_type": "text"
      },
      "source": [
        "Didapat sebuah kesimpulan, dari data tersebut biaya asuransi yang harus dibayarkan berdasarkan perilaku merokok yaitu, orang yang memiliki perilaku merokok memiliki beban biaya asuransi kesehatan lebih tinggi daripada orang yang tidak merokok"
      ]
    },
    {
      "cell_type": "markdown",
      "metadata": {
        "id": "gznzDvxxYit9",
        "colab_type": "text"
      },
      "source": [
        "**4.3 Rata rata biaya asuransi berdasarkan jenis kelamin dan perilaku merokok**"
      ]
    },
    {
      "cell_type": "code",
      "metadata": {
        "id": "ysGjvOGvY7WH",
        "colab_type": "code",
        "colab": {
          "base_uri": "https://localhost:8080/",
          "height": 355
        },
        "outputId": "43961ca6-5d8b-4be3-a209-4f461ebcc731"
      },
      "source": [
        "# plotting data\n",
        "fig, axes = plt.subplots()\n",
        "\n",
        "# jumlah pengguna asuransi laki-laki dan perempuan\n",
        "fig.set_size_inches(7, 5)\n",
        "\n",
        "plt.title('Jumlah pengguna asuransi laki-laki dan perempuan dan merokok dan tidak merokok')\n",
        "plt.pie([data_perempuan_perokok.count(), data_perempuan_tidak_perokok.count(), data_lakiLaki_perokok.count(), data_lakiLaki_tidak_perokok.count()], labels=['Perempuan Perokok', 'Perempuan Tidak Perokok', 'Laki-laki Perokok', 'Laki-laki Tidak Perokok'], autopct='%1.1f%%', shadow=True, startangle=0, colors=['#ff9999','#66b3ff','#99ff99','#ffcc99'])\n",
        "print('\\n')"
      ],
      "execution_count": 20,
      "outputs": [
        {
          "output_type": "stream",
          "text": [
            "\n",
            "\n"
          ],
          "name": "stdout"
        },
        {
          "output_type": "display_data",
          "data": {
            "image/png": "[encoded data removed]",
            "text/plain": [
              "<Figure size 504x360 with 1 Axes>"
            ]
          },
          "metadata": {
            "tags": []
          }
        }
      ]
    },
    {
      "cell_type": "code",
      "metadata": {
        "id": "EdKIBCQFlJNs",
        "colab_type": "code",
        "colab": {
          "base_uri": "https://localhost:8080/",
          "height": 386
        },
        "outputId": "76200c6c-c5c3-4cb0-b669-7b71a56eca54"
      },
      "source": [
        "# plotting data \n",
        "\n",
        "# rata-rata biaya asuransi kesehatan berdasarkan jenis kelamin perilaku merokok\n",
        "fig, axes = plt.subplots()\n",
        "\n",
        "plt.title('Perbandingan rata-rata biaya asuransi berdasarkan jenis kelamin dan perilaku merokok')\n",
        "plt.bar('Perempuan Merokok', pr_mrkk, color='#ff9999')\n",
        "plt.bar('Perempuan Tidak Merokok', pr_tdk_mrkk, color='#66b3ff')\n",
        "plt.bar('Laki-laki Merokok', lk_mrkk, color='#99ff99')\n",
        "plt.bar('Laki-laki Tidak Merokok', lk_tdk_mrkk, color='#ffcc99')\n",
        "plt.xlabel('Jenis Kelamin dan Perilaku merokok')\n",
        "plt.ylabel('Biaya Asuransi')\n",
        "fig.set_size_inches(15, 5)\n",
        "\n",
        "print('\\n')"
      ],
      "execution_count": 21,
      "outputs": [
        {
          "output_type": "stream",
          "text": [
            "\n",
            "\n"
          ],
          "name": "stdout"
        },
        {
          "output_type": "display_data",
          "data": {
            "image/png": "[encoded data removed]",
            "text/plain": [
              "<Figure size 1080x360 with 1 Axes>"
            ]
          },
          "metadata": {
            "tags": [],
            "needs_background": "light"
          }
        }
      ]
    },
    {
      "cell_type": "markdown",
      "metadata": {
        "id": "Sfh28YBY2ClA",
        "colab_type": "text"
      },
      "source": [
        "Didapat sebuah kesimpulan, dari data tersebut mengatakan bahwa laki-laki yang merokok menanggung beban asuransi kesehatan lebih tinggi dari pada perempuan yang merokok yang menempati posisi kedua tertinggi, selanjutnya perempuan tidak merokok dan laki-laki tidak merokok\n",
        "\n",
        "\n",
        "\n",
        "Namun didapat sebuah kesimpulan bersama bahwa orang yang merokok memiliki beban biaya asuransi kesehatan yang cukup tinggi, hal ini terbukti dari grafik yang disajikan"
      ]
    },
    {
      "cell_type": "code",
      "metadata": {
        "id": "mR3fiAHj1_6V",
        "colab_type": "code",
        "colab": {}
      },
      "source": [
        "spark.stop() #stop spark"
      ],
      "execution_count": 22,
      "outputs": []
    },
    {
      "cell_type": "code",
      "metadata": {
        "id": "20qViKR3pPOs",
        "colab_type": "code",
        "colab": {}
      },
      "source": [
        ""
      ],
      "execution_count": null,
      "outputs": []
    }
  ]
}